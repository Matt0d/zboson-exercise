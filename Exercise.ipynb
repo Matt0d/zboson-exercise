{
 "cells": [
  {
   "cell_type": "markdown",
   "metadata": {},
   "source": [
    "# Particle physics data-analysis with CMS open data"
   ]
  },
  {
   "cell_type": "markdown",
   "metadata": {},
   "source": [
    "*** Needs editing to explain the actual exercise ***\n",
    "\n",
    "\n",
    "Welcome to the masterclass computer exercise, here we will use real data from the CMS experiment at CERN for a simple particle physics data-analysis. The goal of the exercise is to discover the **** appearance of Z boson, determine the mass and the lifetime of Z and compare the results to the known values of these.***\n",
    "\n",
    "In the exercise invariant mass values will be calculated for muon pairs that are detected in the CMS detector. A histogram will be made from the calculated invariant mass values. **** After that a Breit-Wigner fit will be made to the histogram. With the fitted Breit-Wigner function it will be possible to determine the mass and the lifetime of Z boson.****\n",
    "\n",
    "In the end there will be also a quick look about how a pseudorapidity effects to the mass distribution of muon pairs.\n",
    "\n",
    "The structure of the exercise is following:\n",
    "- theory background\n",
    "- calculation of invariant masses\n",
    "- making the histogram\n",
    "- fitting the function to the histogram\n",
    "- analysing the histogram\n",
    "- looking the histogram of the whole range of data\n",
    "- the effect of pseudorapidity to the mass distribution\n",
    "\n",
    "Now take a relaxed position and read the theory background first. Understanding the theory is essential for reaching the goal and learning from the exercise. So take your time and enjoy the fascination of particle physics!"
   ]
  },
  {
   "cell_type": "markdown",
   "metadata": {},
   "source": [
    "## Part1 : some background"
   ]
  },
  {
   "cell_type": "markdown",
   "metadata": {},
   "source": [
    "Particle physics is the field of physics where structures of matter and radiation and the interactions between them are studied. In experimental particle physics,  research is performed by accelerating particles and colliding them either with other partciles or with solid targets. This is done with _particle accelerators_ and  the collisions are examined with _particle detectors_.\n",
    "\n",
    "The world's largeest particle accelerator, the Large Hadron Collider (LHC), is located at CERN, the European Organization for Nuclear Research. The LHC is a 27 kilometers long circle-shaped synchrotron accelerator. The LHC is located in a tunnel 100 meters underground on the border of France and Switzerland (image 1)."
   ]
  },
  {
   "cell_type": "markdown",
   "metadata": {},
   "source": [
    "<figure>\n",
    "    <img src=\"images/LHC.png\" alt=\"image missing\" style=\"height: 350px\" />\n",
    "    <figcaption>Image 1: The LHC accelerator and the four detectors around it. &copy; <a href=\"https://cds.cern.ch/record/1708847\">CERN</a> [1]</figcaption>\n",
    "</figure>"
   ]
  },
  {
   "cell_type": "markdown",
   "metadata": {
    "slideshow": {
     "slide_type": "slide"
    }
   },
   "source": [
    "In 2012 the ATLAS and CMS experiments at CERN made an announcement that they had observed a new particle with a mass equal to the predicted mass of the Higgs boson. The Higgs boson and the Higgs field related to it explain the origin of the mass of particles. In 2013 Peter Higgs and François Englert, who predicted the Higgs boson theoretically, were awarded the Nobel prize in physics."
   ]
  },
  {
   "cell_type": "markdown",
   "metadata": {},
   "source": [
    "### Accelerating particles"
   ]
  },
  {
   "cell_type": "markdown",
   "metadata": {},
   "source": [
    "The LHC mainly accelerates protons. The proton source of the LHC is a bottle of hydrogen. Protons are produced by stripping the electrons away from the hydrogen atoms with the help of an electric field.\n",
    "\n",
    "The process of accelerating the protons starts before the LHC. Before the protons arrive in the LHC are accelerated with electric fields and directed with magnetic fields in the Linac 2, Proton Synchrotron Booster, Proton Synchrotron and Super Proton Synchrotron accelerators. After these the protons have an energy of 450 GeV. The protons are injected into the LHC in two different beampipes, each beam contains 2808 proton bunches located about 7.5 meters from each other. Each of these bunches include $1\\text{.}2\\cdot 10^{11}$ protons.\n",
    "\n",
    "The two beams circulate in opposite directions in two different vacuum tubes. Image 2 shows a part of the LHC accelerator opened with the two vacuum tubes visible inside. Each of the proton beams will reach the energy of about 7 TeV (7000 GeV) in LHC."
   ]
  },
  {
   "cell_type": "markdown",
   "metadata": {},
   "source": [
    "<figure>\n",
    "    <img src=\"images/LHC2.jpg\" alt=\"image missing\" style=\"height: 350px\" />\n",
    "    <figcaption>Image 2: Part of the LHC accelerator opened. &copy; <a href=\"https://cds.cern.ch/record/905940\">CERN</a> [2]</figcaption>\n",
    "</figure>"
   ]
  },
  {
   "cell_type": "markdown",
   "metadata": {},
   "source": [
    "Particle collisions are created by crossing these two beams that are heading in opposite directions. Because the bunches are travelling so fast, there will be about 40 million bunch crosses per one second in the LHC. When two proton bunches cross not all of the protons collide with each others. Only about 40 protons per bunch will collide and so create about 20 collisions. But that means there will be 800 million proton collisions every second in the LHC. That's a lot of action!\n",
    "\n",
    "The maximum energy in collisions is 14 TeV. However in most cases the collision energy is smaller than that because when protons collide it is really their constitiuents, the quarks and gluons, which collide with each other. So not all of the energy of the protons is transmitted to the collision.\n",
    "\n",
    "When the protons collide the energy of the collision can be transformed into mass ($E=mc^2$) and new particles are produced in the collisions. These new particles are ejected from the collision area, a bit like a small explosion. By examining and measuring the particles created in collisions, researchers try to understand better the known particles which make up our universe and search for new particles which could explain puzzles such as dark matter. \n",
    "\n"
   ]
  },
  {
   "cell_type": "markdown",
   "metadata": {},
   "source": [
    "### Video"
   ]
  },
  {
   "cell_type": "markdown",
   "metadata": {},
   "source": [
    "The acceleration and collision processes are summarised well in the short video below. Watch the video from the start until 1:15 to get a picture about these processes. You can start the video by running the code cell below (click the cell and then press CTRL + ENTER)."
   ]
  },
  {
   "cell_type": "code",
   "execution_count": null,
   "metadata": {},
   "outputs": [],
   "source": [
    "from IPython.display import HTML\n",
    "HTML('<iframe width=\"560\" height=\"315\" src=\"https://www.youtube.com/embed/pQhbhpU9Wrg\" frameborder=\"0\" allow=\"accelerometer; autoplay; encrypted-media; gyroscope; picture-in-picture\" allowfullscreen></iframe>')"
   ]
  },
  {
   "cell_type": "markdown",
   "metadata": {},
   "source": [
    "### Examining particle collisions"
   ]
  },
  {
   "cell_type": "markdown",
   "metadata": {},
   "source": [
    "At the LHC the proton beams are brought together to colide at four different points. In order to study the particles produced by the collisions, <b>particle detectors</b> are built around the collision points. \n",
    "The four particle detectors at the LHC are ATLAS, LHCb, ALICE and CMS (check the image 1).\n",
    "\n",
    "In image 3 there is a visualisation of some particles created in one collision <b>event</b> seen at the CMS (Compact Muon Solenoid) detector."
   ]
  },
  {
   "cell_type": "markdown",
   "metadata": {},
   "source": [
    "<figure>\n",
    "    <img src=\"images/eventdisplay.png\" alt=\"image missing\" style=\"height: 450px\" />\n",
    "    <figcaption>Image 3: A visualised collision event.</figcaption>\n",
    "</figure>"
   ]
  },
  {
   "cell_type": "markdown",
   "metadata": {},
   "source": [
    "This exercise uses data recorded by the CMS detector so lets look in more detail at CMS....\n",
    "\n",
    "\n",
    "Simplified, the goal of the CMS detector is to detect particles that are created in collisions and measure different quantities from them. The detector consists of different detectors that can detect and measure different particles. The structure of the CMS detector is shown in image 4."
   ]
  },
  {
   "cell_type": "markdown",
   "metadata": {},
   "source": [
    "<figure>\n",
    "    <img src=\"images/CMS.jpg\" alt=\"image missing\" style=\"height: 360px\" />\n",
    "    <figcaption>Image 4: The CMS detector opened. &copy; <a href=\"https://cds.cern.ch/record/1433717\">CERN</a> [3]</figcaption>\n",
    "</figure>"
   ]
  },
  {
   "cell_type": "markdown",
   "metadata": {},
   "source": [
    "CMS consists of different <b> sub-detectors</b> which form an onion-like structure around the collision point. This structure ensures that as many partciles as possible from the collision are detected.\n",
    "\n",
    "Different particles act differently in the different sub-detectors of CMS. Image 5 shows a cross-section of the CMS detector. The particle beams would travel in and out from the plane. Image 5 also demonstrates how different particles can be identified in the detector."
   ]
  },
  {
   "cell_type": "markdown",
   "metadata": {},
   "source": [
    "<figure>\n",
    "    <img src=\"images/CMS2.gif\" alt=\"image missing\" style=\"height: 350px\" />\n",
    "    <figcaption>Image 5: The cross-section of the CMS and different particle interactions in it. &copy; <a href=\"https://cms-docdb.cern.ch/cgi-bin/PublicDocDB/ShowDocument?docid=4172\">CERN</a> [4]</figcaption>\n",
    "</figure>"
   ]
  },
  {
   "cell_type": "markdown",
   "metadata": {},
   "source": [
    "**** Still need to edit this section ***** \n",
    "\n",
    "\n",
    "Let's look at the different parts of the detector: \n",
    "<dl>\n",
    "    <dt> Tracker </dt>\n",
    "    <dd> The innermost part is the silicon tracker. The silicon tracker makes it possible to reconstruct trajectories of charged particles. Charged particles interact electromagnetically with the tracker and create an electric pulse. An intense magnetic field bends the trajectories of the charged particles. With the curvature of the trajectories shown by the pulses created in the tracker, it is possible to calculate the momenta of the charged particles. </dd>\n",
    "    <dt> Calorimeter </dt>\n",
    "    <dd> Particle energies can be measured with help of the calorimeters. Electrons and photons will stop to the Electromagnetic Calorimeter (ECAL). Hadrons, for example protons or neutrons, will pass through the ECAL but will be stopped in the Hadron Calorimeter (HCAL).\n",
    " ECAL is made from lead tungstate crystals that will produce light when electrons and photons pass through them. The amount of light produced is propotional to the energy of the particle. So it is possible to determine the energy of the particle stopped in ECAL with the photodetectors. Also the operation of the HCAL is based on detecting light. </dd>\n",
    "<dt> Muon detector </dt>\n",
    "<dd> Only muons and weakly interacting particles like neutrinos will pass both the ECAL and HCAL. Energies and momenta of muons can be determined with the muon chambers. The detection of the momentum is based on electrical pulses that muons create in the different sections of the muon chambers. Energies of muons can't be measured directly, but the energies will be determined by calculating them from the other measured quantities.</dd>\n",
    "</dl>\n",
    "\n",
    "Neutrinos can't be detected directly in the detector (they only interact very weakly and pass right through the detector), but the existence of them can be derived with the help of missing energy. It is possible that the total energy of the particles detected in a collision is smaller than the energy before the collision. This makes a conflict with the energy conservation. The situation indicates that something has been left undetected in the collision, so there is a possibility that neutrons are created in the collision."
   ]
  },
  {
   "cell_type": "markdown",
   "metadata": {},
   "source": [
    "## Part2 : Looking at some events"
   ]
  },
  {
   "cell_type": "markdown",
   "metadata": {},
   "source": [
    "We can look at some more event displays by downloading the file <a href=\"Events/EventDisplays.pdf\"> here </a>"
   ]
  },
  {
   "cell_type": "markdown",
   "metadata": {},
   "source": [
    "### Indirect detection of particles"
   ]
  },
  {
   "cell_type": "markdown",
   "metadata": {},
   "source": [
    "As we have seen,  not every particle can be detected directly with the particle detectors. Interesting particles are often short-lived and <b> decay </b> essentially at the interaction point so never reach the detectors. These processes can be searched for via their long-lived decay products, this is indirect detection.\n",
    "\n",
    "For example the Z boson (the particle that mediates weak interaction) can't be detected directly with the CMS since the lifetime of the Z is very short. That means that the Z boson will decay before it even reaches the silicon detector of the CMS.\n",
    "\n",
    "How it is possible to detect the Z boson then? A solution to this question comes from the decay process of the Z boson. If particles that originate from the decay of the Z are prossible to detect, it is also possible to deduce the existence of the Z. So the detection is indirect.\n",
    "\n",
    "The Z boson can decay with in many ways (24 in fact) and in this exercise we will look at one of these: the decay of the Z to a muon ($\\mu^-$) and an antimuon ($\\mu^+$). This decay process is shown as a Feynman diagram in the image 7."
   ]
  },
  {
   "cell_type": "markdown",
   "metadata": {},
   "source": [
    "<figure>\n",
    "    <img src=\"images/Zdecay.png\" alt=\"image missing\" style=\"height: 170px\" />\n",
    "    <center> <figcaption>Image 7: Feynmann diagram of the process where the Z boson decays to a muon and an antimuon.</figcaption> </center>\n",
    "</figure>"
   ]
  },
  {
   "cell_type": "markdown",
   "metadata": {},
   "source": [
    "\n",
    "The muons that are created from the decay of the Z can be detected. But just the detection of the muon and the antimuon isn't  sufficient evidence for the existence of the Z as they could have originated from another process (there are many different processes which can lead to the same final state). \n",
    "Assuming that the muon, antimuon pair came from the decay of a single </b> \"mother\" </b> particle, we can use their momentum and energy to calculate the <b> invariant mass </b> of that particle.\n",
    "\n",
    "With the invariant mass it is possible to prove the existence of particles. \n",
    "\n",
    "In our example, we can take all the muon-antimuon events recorded by CMS and calculate the invariant mass for each event.\n",
    "If we get a different answer each time then the muon-antimuon pair were just a random combination.\n",
    "If the answer is always the same it indicates that the muon-antimuon pair came from a single particle.\n",
    "\n",
    "In this notebook we will make this calculation for the decay of the Z to two muons shown in the image 7 and then later for the decay of the Higgs to two Z bosons.\n",
    "\n",
    "This exercise uses data that contains collisions where two muons have been detected (among with many of other particles). It is possible to calculate an invariant mass value for the muon pair in an one collision event with the equation (2). And this can be repeated for a great amount of collision events.\n",
    "\n",
    "If the invariant mass of the muon pair is equal to the mass of the Z boson it can be verified that the muon pair originates from the deacay of the Z. And if the invariant mass of the muon pair gets some other value the muons will originate from some other processes. __So the invariant mass can be used as an evidence about the existence of a particle__.\n",
    "\n",
    "Now for some computing and maths......"
   ]
  },
  {
   "cell_type": "markdown",
   "metadata": {},
   "source": [
    "### Calculating the invariant mass"
   ]
  },
  {
   "cell_type": "markdown",
   "metadata": {},
   "source": [
    "The mass of the Z boson can be determined with the help of a concept called _invariant mass_. Let's next derive loosely an expression for the invariant mass.\n",
    "\n",
    "Let's observe a situation where a particle with mass $M$ and energy $E$ decays to two particles with masses $m_1$ and $m_2$, and energies $E_1$ and $E_2$. Energy $E$ and momentum $\\vec{p}$ is conserved in the decay process so $E = E_1 +E_2$ and $\\vec{p} = \\vec{p}_1+ \\vec{p}_2$.\n",
    "\n",
    "Particles will obey the relativistic dispersion relation:\n",
    "\n",
    "$$\n",
    "Mc^2 = \\sqrt{E^2 - c^2\\vec{p}^2}.\n",
    "$$\n",
    "\n",
    "And with the conservation of energy and momentum this can be shown as\n",
    "\n",
    "$$\n",
    "Mc^2 = \\sqrt{(E_1+E_2)^2 - c^2(\\vec{p_1} + \\vec{p_2})^2}\n",
    "$$\n",
    "<!--\n",
    "$$\n",
    "=\\sqrt{E_1^2+2E_1E_2+E_2^2 -c^2\\vec{p_1}^2-2c^2\\vec{p_1}\\cdot\\vec{p_2}-c^2\\vec{p_2}^2}\n",
    "$$\n",
    "$$\n",
    "=\\sqrt{2E_1E_2 - 2c^2 |\\vec{p_1}||\\vec{p_2}|\\cos(\\theta)+m_1^2c^4+m_2^2c^4}. \\qquad (1)\n",
    "$$\n",
    "\n",
    "The relativistic dispersion relation can be brought to the following format\n",
    "\n",
    "$$\n",
    "M^2c^4 = E^2 - c^2\\vec{p}^2\n",
    "$$\n",
    "$$\n",
    "E = \\sqrt{c^2\\vec{p}^2 + M^2c^4},\n",
    "$$\n",
    "-->\n",
    "from where by setting $c = 1$ (very common in particle physics) \n",
    "\n",
    "$$\n",
    "M = \\sqrt{(E)^2 - (\\vec{p})^2} = \\sqrt{(E_1+E_2)^2 - (\\vec{p_1} + \\vec{p_2})^2}, \\qquad (2)\n",
    "$$\n",
    "\n",
    "<!-- don't think we need this\n",
    "and\n",
    "\n",
    "$$\n",
    "E = \\sqrt{\\vec{p}^2 + M^2}, \\qquad (3)\n",
    "$$\n",
    "\n",
    "and by assuming masses of the particles very small compared to momenta, it is possible to get the following:\n",
    "\n",
    "$$\n",
    "E = \\sqrt{\\vec{p}^2 + M^2} = |\\vec{p}|\\sqrt{1+\\frac{M^2}{\\vec{p}^2}}\n",
    "\\stackrel{M<<|\\vec{p}|}{\\longrightarrow}|\\vec{p}|.\n",
    "$$\n",
    "\n",
    "By applying the result $E = |\\vec{p}|$ derived above and the setting $c=1$ to the equation (1), it can be reduced to the format\n",
    "\n",
    "$$\n",
    "M=\\sqrt{2E_1E_2(1-\\cos(\\theta))},\n",
    "$$\n",
    "\n",
    "where $\\theta$ is the angle between the momentum vector of the particles. With this equation it is possible to calculate the invariant mass for the particle pair if energies of the particles and the angle $\\theta$ is known.\n",
    "\n",
    "In experimental particle physics the equation for the invariant mass is often in the form\n",
    "\n",
    "$$\n",
    "M = \\sqrt{2p_{T1}p_{T2}( \\cosh(\\eta_1-\\eta_2)-\\cos(\\phi_1-\\phi_2) )}, \\qquad (4)\n",
    "$$\n",
    "\n",
    "where transverse momentum $p_T$ is the component of the momentum of the particle that is perpendicular to the particle beam, $\\eta$ the pseudorapidity and $\\phi$ the azimuth angle. The pseudorapidity is defined with the $\\theta$ with the equation $\\eta = -\\ln(\\tan(\\frac{\\theta}{2}))$. So basically the pseudorapidity describes an angle. Also $\\phi$ is describing an angle.\n",
    "\n",
    "Image 8 expresses $\\theta$, $\\eta$ and $\\phi$ in the CMS detector. The particle beams will travel to the z-direction. Image 8 also shows that because of the determination of $\\eta$ it goes to 0 when $\\theta = 90^{\\circ}$ and to $\\infty$ when $\\theta = 0^{\\circ}$.\n",
    "-->"
   ]
  },
  {
   "cell_type": "markdown",
   "metadata": {},
   "source": [
    "## Part3 : Computer exercise"
   ]
  },
  {
   "cell_type": "markdown",
   "metadata": {},
   "source": [
    "### Exercise 1 : An introduction to python and programming"
   ]
  },
  {
   "cell_type": "markdown",
   "metadata": {},
   "source": [
    "This is a jupyter notebook, where you can have text \"cells\" (like this text here) and code \"cells\" i.e. boxes where you can write python code to be executed (like the one below). No need to install anything (if you run this on http://mybinder.org/) or find compilers, it is all done for you in background.\n",
    "\n",
    "For the exercise with CMS open data, we use python as programming language: it is easy to get started, just type, for example, 1 + 1 in the cell below and click on \"Run\" icon (black triangle) above or click \"Shift\" & \"Enter\" at the same time.\n",
    "    "
   ]
  },
  {
   "cell_type": "code",
   "execution_count": null,
   "metadata": {},
   "outputs": [],
   "source": [
    "1+1"
   ]
  },
  {
   "cell_type": "markdown",
   "metadata": {},
   "source": [
    "Now try something more advanced, for example sqrt(4)"
   ]
  },
  {
   "cell_type": "code",
   "execution_count": null,
   "metadata": {},
   "outputs": [],
   "source": [
    "sqrt(4)\n"
   ]
  },
  {
   "cell_type": "markdown",
   "metadata": {},
   "source": [
    "That failed: basic python can do some operations but for anything more complex, we need additional software packages or \"modules\".\n",
    "Here we import \"numpy\", a maths module: (select the cell below and run it by clicking on the Run icon):"
   ]
  },
  {
   "cell_type": "code",
   "execution_count": null,
   "metadata": {},
   "outputs": [],
   "source": [
    "import numpy as np\n"
   ]
  },
  {
   "cell_type": "markdown",
   "metadata": {},
   "source": [
    "Now we can try sqrt again using numpy: np.sqrt(4)"
   ]
  },
  {
   "cell_type": "code",
   "execution_count": 23,
   "metadata": {},
   "outputs": [
    {
     "data": {
      "text/plain": [
       "2.0"
      ]
     },
     "execution_count": 23,
     "metadata": {},
     "output_type": "execute_result"
    }
   ],
   "source": [
    "# Try out np.sqrt - This is a comment separated with #-symbol. \n",
    "np.sqrt(4)\n"
   ]
  },
  {
   "cell_type": "markdown",
   "metadata": {},
   "source": [
    "Note that starting a line with \"#\"  marks the line as a comment, this line doesn't affect the functionality of the code."
   ]
  },
  {
   "cell_type": "markdown",
   "metadata": {},
   "source": [
    "Need to introduce other useful commands - how to make power. Do we introduce histograms?"
   ]
  },
  {
   "cell_type": "markdown",
   "metadata": {},
   "source": [
    "### Exercise 2 : Getting the data"
   ]
  },
  {
   "cell_type": "markdown",
   "metadata": {},
   "source": [
    "In this section the data-analysis is started by calculating the invariant masses of the muon pairs that are detected in the collision events. \n",
    "Analysis will be done with the Python programming language.\n",
    "\n",
    "The data used in the analysis has been collected by the CMS detector in 2011. \n",
    "From the original data only those collision events with exactly two muons have been sleected and the information stored on a CSV file. \n",
    "\n",
    "The CSV file used in this excercise is already saved to the same repository as this notebook file. Now let's get the file with Python and start the analysis!"
   ]
  },
  {
   "cell_type": "markdown",
   "metadata": {},
   "source": [
    "In the code cell below needed Python modules _pandas_, _numpy_ and _matplotlib.pyplot_ are imported and named as _pd_, _np_ and _plt_. Modules are files that contain functions and commands for Python language. Modules are imported because not all of the things needed in the exercise could be done with the Python's built-in functions.\n",
    "\n",
    "Also the data file from the repository is imported and saved to the variable named `ds`. __Don't change the name of the variable.__ The file is imported with the function `read_csv()` from the pandas module. So in the code there has to be an reference to pandas module (that we named as _pd_) in front of the function.\n",
    "\n"
   ]
  },
  {
   "cell_type": "code",
   "execution_count": 22,
   "metadata": {},
   "outputs": [],
   "source": [
    "import pandas as pd\n",
    "import numpy as np\n",
    "\n",
    "ds = pd.read_csv('DoubleMuRun2011A.csv')"
   ]
  },
  {
   "cell_type": "markdown",
   "metadata": {},
   "source": [
    "#### How many events?"
   ]
  },
  {
   "cell_type": "markdown",
   "metadata": {},
   "source": [
    "First we want to figure out how many collision events (or in this case data rows) there are in the data file. Add to the code cell below needed code to print out the number of rows of the imported file. With Python printing is done with the `print()` function where the thing that is wanted to be printed will be written inside the brackets. The length of an object can be determined with the `len()` function. Inside the brackets will be written the variable which length is wanted to be determined.\n",
    "\n",
    "Feel free to test different solutions for printing the length of the file.\n",
    "\n",
    "After you have printed the number of the rows in the datafile, you can move on to the next section. First try to figure it out yourself, but if you get stuck click on the hints below.\n",
    "\n"
   ]
  },
  {
   "cell_type": "markdown",
   "metadata": {},
   "source": [
    "<details>\n",
    "    <summary>Hint 1</summary>\n",
    "    \n",
    "    The data was saved to the variable that was named as \"ds\".\n",
    "</details>\n",
    "\n",
    "<details>\n",
    "    <summary>Hint 2</summary>\n",
    "    \n",
    "    Write the function \"len()\" inside the function \"print()\": \"print(len(variablename))\", where variablename\n",
    "    refers to the name of your variable.\n",
    "</details>"
   ]
  },
  {
   "cell_type": "code",
   "execution_count": null,
   "metadata": {},
   "outputs": [],
   "source": [
    "\n",
    "# Add your own code to print the number of collision events in the datafile!\n",
    "\n"
   ]
  },
  {
   "cell_type": "markdown",
   "metadata": {},
   "source": [
    "<details>\n",
    "    <summary>Answer</summary>\n",
    "    \n",
    "    print(len(ds))\n",
    "</details>"
   ]
  },
  {
   "cell_type": "markdown",
   "metadata": {},
   "source": [
    "#### What does the data look like?"
   ]
  },
  {
   "cell_type": "markdown",
   "metadata": {},
   "source": [
    "The file was saved as a _DataFrame_ structure (practically a table) of _pandas_ module in a variable called `ds`. Next print the five first rows of the file to look properly how does the file look. With the `print()` function it is possible to print a variable inside the brackets. With the function _variablename_`.head()` you can get the first five rows of the data file by changing the _variablename_ with the name of your variable.\n",
    "\n",
    "Write a code that prints the five first rows of the data file and run the code cell by clicking it active and pressing CTRL + ENTER. First try to figure it out yourself, but if you get stuck click on the hint below."
   ]
  },
  {
   "cell_type": "markdown",
   "metadata": {},
   "source": [
    "<details>\n",
    "    <summary>Hint</summary>\n",
    "    \n",
    "    Hint: \"print(variablename.head())\"\n",
    "</details>"
   ]
  },
  {
   "cell_type": "code",
   "execution_count": 53,
   "metadata": {},
   "outputs": [
    {
     "data": {
      "text/html": [
       "<div>\n",
       "<style scoped>\n",
       "    .dataframe tbody tr th:only-of-type {\n",
       "        vertical-align: middle;\n",
       "    }\n",
       "\n",
       "    .dataframe tbody tr th {\n",
       "        vertical-align: top;\n",
       "    }\n",
       "\n",
       "    .dataframe thead th {\n",
       "        text-align: right;\n",
       "    }\n",
       "</style>\n",
       "<table border=\"1\" class=\"dataframe\">\n",
       "  <thead>\n",
       "    <tr style=\"text-align: right;\">\n",
       "      <th></th>\n",
       "      <th>Run</th>\n",
       "      <th>Event</th>\n",
       "      <th>Type1</th>\n",
       "      <th>E1</th>\n",
       "      <th>px1</th>\n",
       "      <th>py1</th>\n",
       "      <th>pz1</th>\n",
       "      <th>pt1</th>\n",
       "      <th>eta1</th>\n",
       "      <th>phi1</th>\n",
       "      <th>...</th>\n",
       "      <th>Type2</th>\n",
       "      <th>E2</th>\n",
       "      <th>px2</th>\n",
       "      <th>py2</th>\n",
       "      <th>pz2</th>\n",
       "      <th>pt2</th>\n",
       "      <th>eta2</th>\n",
       "      <th>phi2</th>\n",
       "      <th>Q2</th>\n",
       "      <th>M</th>\n",
       "    </tr>\n",
       "  </thead>\n",
       "  <tbody>\n",
       "    <tr>\n",
       "      <th>0</th>\n",
       "      <td>165617</td>\n",
       "      <td>74601703</td>\n",
       "      <td>G</td>\n",
       "      <td>9.69873</td>\n",
       "      <td>-9.510430</td>\n",
       "      <td>0.366205</td>\n",
       "      <td>1.86329</td>\n",
       "      <td>9.51748</td>\n",
       "      <td>0.194546</td>\n",
       "      <td>3.10311</td>\n",
       "      <td>...</td>\n",
       "      <td>G</td>\n",
       "      <td>9.76332</td>\n",
       "      <td>7.327710</td>\n",
       "      <td>-1.152370</td>\n",
       "      <td>6.34728</td>\n",
       "      <td>7.41776</td>\n",
       "      <td>0.775564</td>\n",
       "      <td>-0.155984</td>\n",
       "      <td>1</td>\n",
       "      <td>17.49220</td>\n",
       "    </tr>\n",
       "    <tr>\n",
       "      <th>1</th>\n",
       "      <td>165617</td>\n",
       "      <td>75100943</td>\n",
       "      <td>G</td>\n",
       "      <td>6.20385</td>\n",
       "      <td>-4.266610</td>\n",
       "      <td>0.456545</td>\n",
       "      <td>-4.47930</td>\n",
       "      <td>4.29097</td>\n",
       "      <td>-0.912070</td>\n",
       "      <td>3.03499</td>\n",
       "      <td>...</td>\n",
       "      <td>G</td>\n",
       "      <td>9.66898</td>\n",
       "      <td>7.273970</td>\n",
       "      <td>-2.821120</td>\n",
       "      <td>-5.71040</td>\n",
       "      <td>7.80188</td>\n",
       "      <td>-0.678625</td>\n",
       "      <td>-0.369977</td>\n",
       "      <td>1</td>\n",
       "      <td>11.55340</td>\n",
       "    </tr>\n",
       "    <tr>\n",
       "      <th>2</th>\n",
       "      <td>165617</td>\n",
       "      <td>75587682</td>\n",
       "      <td>G</td>\n",
       "      <td>19.28920</td>\n",
       "      <td>-4.212080</td>\n",
       "      <td>-0.651623</td>\n",
       "      <td>18.81210</td>\n",
       "      <td>4.26219</td>\n",
       "      <td>2.190460</td>\n",
       "      <td>-2.98811</td>\n",
       "      <td>...</td>\n",
       "      <td>G</td>\n",
       "      <td>9.82439</td>\n",
       "      <td>4.343940</td>\n",
       "      <td>-0.473505</td>\n",
       "      <td>8.79849</td>\n",
       "      <td>4.36967</td>\n",
       "      <td>1.449670</td>\n",
       "      <td>-0.108575</td>\n",
       "      <td>1</td>\n",
       "      <td>9.16361</td>\n",
       "    </tr>\n",
       "    <tr>\n",
       "      <th>3</th>\n",
       "      <td>165617</td>\n",
       "      <td>75660978</td>\n",
       "      <td>G</td>\n",
       "      <td>7.04268</td>\n",
       "      <td>-6.326780</td>\n",
       "      <td>-0.268545</td>\n",
       "      <td>3.08025</td>\n",
       "      <td>6.33248</td>\n",
       "      <td>0.469033</td>\n",
       "      <td>-3.09917</td>\n",
       "      <td>...</td>\n",
       "      <td>G</td>\n",
       "      <td>5.58571</td>\n",
       "      <td>4.474760</td>\n",
       "      <td>0.848935</td>\n",
       "      <td>-3.23185</td>\n",
       "      <td>4.55458</td>\n",
       "      <td>-0.660499</td>\n",
       "      <td>0.187488</td>\n",
       "      <td>1</td>\n",
       "      <td>12.47740</td>\n",
       "    </tr>\n",
       "    <tr>\n",
       "      <th>4</th>\n",
       "      <td>165617</td>\n",
       "      <td>75947690</td>\n",
       "      <td>G</td>\n",
       "      <td>7.27507</td>\n",
       "      <td>0.102966</td>\n",
       "      <td>-5.533080</td>\n",
       "      <td>-4.72122</td>\n",
       "      <td>5.53403</td>\n",
       "      <td>-0.773616</td>\n",
       "      <td>-1.55219</td>\n",
       "      <td>...</td>\n",
       "      <td>G</td>\n",
       "      <td>7.31811</td>\n",
       "      <td>-0.398831</td>\n",
       "      <td>6.940810</td>\n",
       "      <td>2.28247</td>\n",
       "      <td>6.95226</td>\n",
       "      <td>0.322677</td>\n",
       "      <td>1.628190</td>\n",
       "      <td>1</td>\n",
       "      <td>14.31590</td>\n",
       "    </tr>\n",
       "  </tbody>\n",
       "</table>\n",
       "<p>5 rows × 21 columns</p>\n",
       "</div>"
      ],
      "text/plain": [
       "      Run     Event Type1        E1       px1       py1       pz1      pt1  \\\n",
       "0  165617  74601703     G   9.69873 -9.510430  0.366205   1.86329  9.51748   \n",
       "1  165617  75100943     G   6.20385 -4.266610  0.456545  -4.47930  4.29097   \n",
       "2  165617  75587682     G  19.28920 -4.212080 -0.651623  18.81210  4.26219   \n",
       "3  165617  75660978     G   7.04268 -6.326780 -0.268545   3.08025  6.33248   \n",
       "4  165617  75947690     G   7.27507  0.102966 -5.533080  -4.72122  5.53403   \n",
       "\n",
       "       eta1     phi1  ...  Type2       E2       px2       py2      pz2  \\\n",
       "0  0.194546  3.10311  ...      G  9.76332  7.327710 -1.152370  6.34728   \n",
       "1 -0.912070  3.03499  ...      G  9.66898  7.273970 -2.821120 -5.71040   \n",
       "2  2.190460 -2.98811  ...      G  9.82439  4.343940 -0.473505  8.79849   \n",
       "3  0.469033 -3.09917  ...      G  5.58571  4.474760  0.848935 -3.23185   \n",
       "4 -0.773616 -1.55219  ...      G  7.31811 -0.398831  6.940810  2.28247   \n",
       "\n",
       "       pt2      eta2      phi2  Q2         M  \n",
       "0  7.41776  0.775564 -0.155984   1  17.49220  \n",
       "1  7.80188 -0.678625 -0.369977   1  11.55340  \n",
       "2  4.36967  1.449670 -0.108575   1   9.16361  \n",
       "3  4.55458 -0.660499  0.187488   1  12.47740  \n",
       "4  6.95226  0.322677  1.628190   1  14.31590  \n",
       "\n",
       "[5 rows x 21 columns]"
      ]
     },
     "execution_count": 53,
     "metadata": {},
     "output_type": "execute_result"
    }
   ],
   "source": [
    " ds.head(5)"
   ]
  },
  {
   "cell_type": "markdown",
   "metadata": {},
   "source": [
    "<details>\n",
    "    <summary>Answer</summary>\n",
    "    \n",
    "    ds.head(5)\n",
    "</details>"
   ]
  },
  {
   "cell_type": "markdown",
   "metadata": {},
   "source": [
    "The \"\\\\\" symbols in the output tell that a row won't fit totally on a screen but continues to next rows of the output. The first row shows which information about muon pairs the file contains. For example E1 is the energy of the first muon and E2 the energy of the second etc. Here are the different values listed:\n",
    "\n",
    "- Run = number of the run where data has been collected from\n",
    "- Event = number of the collision event\n",
    "- Type = type of the muon, global muon (G) has been measured both in the silicon tracker and muon chambers, tracker myon (T) has been measured only in the silicon tracker (these classifications are hypotheses since the type cannot be known absolutely)\n",
    "- E = energy of the muon\n",
    "- px, py, pz = different coordinates of momentum of the muon\n",
    "- pt = transverse momentum, that is the component of momentum of the muon that is perpendicular to the particle beams\n",
    "- eta = $\\eta$ = pseudorapidity, a coordinate describing an angle (check the image 8)\n",
    "- phi = $\\phi$ = azimuth angle, also a coordinate describing an angle (check the image 8)\n",
    "- Q = electrical charge of the muon"
   ]
  },
  {
   "cell_type": "markdown",
   "metadata": {},
   "source": [
    "### Exercise 3  : Making some plots"
   ]
  },
  {
   "cell_type": "markdown",
   "metadata": {},
   "source": [
    "Next let's plot some of the values from the file in a histogram.\n",
    "\n",
    "A histogram describes how the values are distributed, that is, how many values fall in each bin of the histogram. In the image below there is a histogram that represents how the amount of cash in a wallet has been distributed for some random group of people. One can see from the histogram that, for example, the most common amount of cash was 10–15 euros (12 people had this)."
   ]
  },
  {
   "cell_type": "markdown",
   "metadata": {},
   "source": [
    "<figure>\n",
    "    <img src=\"images/histogram.png\" alt=\"image missing\" style=\"height: 350px\" />\n",
    "<center>    <figcaption>Image 9: An example histogram from the distribution of the amount of cash.</figcaption> </center>\n",
    "</figure>"
   ]
  },
  {
   "cell_type": "markdown",
   "metadata": {},
   "source": [
    "Histograms can be created with Python with the _matplotlib.pyplot_ module. \n",
    "\n",
    "Run the cell below to import this module as _plt_.\n"
   ]
  },
  {
   "cell_type": "code",
   "execution_count": 21,
   "metadata": {},
   "outputs": [],
   "source": [
    "import matplotlib.pyplot as plt"
   ]
  },
  {
   "cell_type": "markdown",
   "metadata": {},
   "source": [
    "Now we can plot something.... Let's try _'px1'_  (this is the x-component of the momentum vector for muon 1)\n",
    "\n",
    "The function _plt.hist()_ is used to create a histogram by giving different parameters inside the brackets. \n",
    "The full list of parameters can be seen at https://matplotlib.org/devdocs/api/_as_gen/matplotlib.pyplot.hist.html.\n",
    "\n",
    "For now, we will only use the first three:\n",
    "<ul>\n",
    "    <li> a variable from which values the histogram is created (here _px1_) </li>\n",
    "    <li>number of bins (bins) and </li>\n",
    "    <li>the lower and upper range of the bins (range) </li>\n",
    "</ul>\n",
    "\n",
    "The function _plt.hist()_ is used to display the histogram"
   ]
  },
  {
   "cell_type": "code",
   "execution_count": 28,
   "metadata": {},
   "outputs": [
    {
     "data": {
      "image/png": "[encoded data removed]",
      "text/plain": [
       "<Figure size 432x288 with 1 Axes>"
      ]
     },
     "metadata": {
      "needs_background": "light"
     },
     "output_type": "display_data"
    }
   ],
   "source": [
    "px1 = ds['px1']\n",
    "plt.hist(px1, bins=100, range=(-20.,20.))\n",
    "plt.show()"
   ]
  },
  {
   "cell_type": "markdown",
   "metadata": {},
   "source": [
    "You can change the cell above to plot some of the other muon properties"
   ]
  },
  {
   "cell_type": "markdown",
   "metadata": {},
   "source": [
    "\n",
    "\n",
    "Next, let's look at the invariant mass, this has already been calculated and stored in the file as \"M\".\n",
    "\n",
    "Run the cell below to plot the invariant mass.\n"
   ]
  },
  {
   "cell_type": "code",
   "execution_count": 26,
   "metadata": {},
   "outputs": [
    {
     "data": {
      "image/png": "[encoded data removed]",
      "text/plain": [
       "<Figure size 432x288 with 1 Axes>"
      ]
     },
     "metadata": {
      "needs_background": "light"
     },
     "output_type": "display_data"
    }
   ],
   "source": [
    "\n",
    "\n",
    "invariant_mass_1 = ds['M']\n",
    "\n",
    "no_bins = 500\n",
    "\n",
    "plt.hist(invariant_mass_1, no_bins, range=(0.5,150.), color=\"darkgrey\")\n",
    "\n",
    "#plt.yscale('log')\n",
    "#plt.xscale('log')\n",
    "\n",
    "plt.show()"
   ]
  },
  {
   "cell_type": "markdown",
   "metadata": {},
   "source": [
    "### Looking at the muon pair invariant mass spectrum"
   ]
  },
  {
   "cell_type": "markdown",
   "metadata": {},
   "source": [
    "Below is the histogram published by the CMS experiment of the invariant mass of muon pairs. Does it look like yours??\n",
    "\n",
    "Not quite.... That's beacuse the CMS plot uses log scales on the axes to make the plot clearer.\n",
    "\n",
    "Try commenting out the lines \"plt.yscale('log')\" and then \"plt.xscale('log')\" in the cell above and re-running to see what happens.\n",
    "\n",
    "Now it should look more similar.\n"
   ]
  },
  {
   "cell_type": "markdown",
   "metadata": {},
   "source": [
    "<figure>\n",
    "    <img src=\"images/CMShistogram.png\" alt=\"image missing\" style=\"height: 350px\" />\n",
    "    <figcaption>Image 9: The histogram of the invariant masses published by the CMS experiment. &copy; <a href=\"https://arxiv.org/abs/1206.4071\">CMS Collaboration</a> [5]</figcaption>\n",
    "</figure>"
   ]
  },
  {
   "cell_type": "markdown",
   "metadata": {},
   "source": [
    "The plot shows a smooth 'background' of random coincidences and on top of that some 'peaks'\n",
    "\n",
    "Each of these peaks is evidence for a particle decaying to muon pairs. \n",
    "The peaks correspond to known particles and have ben given labels.    \n",
    "You can use the Particle Data Group web site if want to know more about these particles.\n",
    "If we saw a peak at a pint where no known particle was expected this woudl be evidence of a new partcile discovery."
   ]
  },
  {
   "cell_type": "markdown",
   "metadata": {},
   "source": [
    "### Identifying the Z boson - I think this is already explained above"
   ]
  },
  {
   "cell_type": "markdown",
   "metadata": {},
   "source": [
    "We have just seen we can identify particles by reconstructing the invariant mass of the particles they decay to. We can look at any of these particles and study its properties. For example lets focus on the Z boson. In practice the identification of the Z boson goes in the following way. The invariant mass for two muons is calculated for the great amount of collision events. Then a histogram is made from the calculated values. The histogram shows how many invariant mass values will be in each bin of the histogram.\n",
    "\n",
    "If a peak (many invariant mass values near the same bin compared to other bins) is formed in the histogram, it can prove that in the collision events there has been a particle with a mass that corresponds to the peak. After that it is possible to fit a function to the histogram and determine the mass and the lifetime of the Z from the parameters of the fitted function. In the histogram we plotted the invariant mass was calculated for us. Let's calculate the invariant mass ourselves"
   ]
  },
  {
   "cell_type": "markdown",
   "metadata": {},
   "source": [
    "<!-- ### Question 2 -->"
   ]
  },
  {
   "cell_type": "markdown",
   "metadata": {},
   "source": [
    "<!--\n",
    "Let's practice the calculation of the invariant mass with the following task. Let's assume that for one muon pair the following values have been measured or determined:\n",
    "\n",
    "- $p_{T1} = 58,6914$ GeV/c\n",
    "- $p_{T2} = 45,7231$ GeV/c\n",
    "- $\\eta_1 = -1,02101$\n",
    "- $\\eta_2 = -0,37030$\n",
    "- $\\phi_1 = 0,836256$ rad\n",
    "- $\\phi_2 = 2,741820$ rad\n",
    "\n",
    "Calculate the invariant mass value for this single pair of muons.\n",
    "\n",
    "Compare the calculated value to the mass of the Z boson reported by the Particle Data Group (PDG, http://pdg.lbl.gov/). What do you notice? Can you make sure conclusions from your notifications?\n",
    "\n",
    "That's the end of the theory part of this exercise. You can now move on to analysing the data.\n",
    "-->"
   ]
  },
  {
   "cell_type": "markdown",
   "metadata": {},
   "source": [
    "### Exercise 4 :  Calculating the invariant mass"
   ]
  },
  {
   "cell_type": "markdown",
   "metadata": {},
   "source": [
    "Now let's calculate the invariant mass for the muon pairs for ourselves.\n",
    " \n",
    "You have to write a proper equation only once since code executes the equation automatically for each row of the file.\n",
    "\n",
    "For example if you would like to sum the electrical charges of two muons for each event and save results in a variable _charges_, it could be done with the following code:\n",
    "```\n",
    "charges = ds.Q1 + ds.Q2\n",
    "```\n",
    "\n",
    "So you have to tell in the code that Q1 and Q2 refer to values in the variable `ds`. This can be done by adding the variable name separated with a dot in front of the value that is wanted, as in the example above.\n",
    "\n",
    "Remember that you can use 'sqrt'  from the _numpy_ module that we named as _np_. You can get a square root with the function `np.sqrt()`.  Naturally inside the brackets there will be anything that is inside the square root or brackets in the equation too.\n",
    "\n",
    "__Write below code__ that will calculate the invariant mass value for muon pairs in each collision event in the data file. \n",
    "\n",
    "You need to use the muons energy and momentum and then use equation 2 to calculate the invariant mass of the parent particle:\n",
    "$$\n",
    "M = \\sqrt{(E)^2 - (\\vec{p})^2} = \\sqrt{(E_1+E_2)^2 - (\\vec{p_1} + \\vec{p_2})^2}, \\qquad (2)\n",
    "$$\n",
    "\n",
    "\n",
    "Save the values calculated in a variable called `invariant_mass`.\n",
    "There are some comments in the cell below to help you with the different steps.\n",
    "\n",
    "If you run the second cell, the code will print the first five values that are calculated. Also the output will tell if the values are correct. This is done with a small piece of code at the end of the cell.\n",
    "\n"
   ]
  },
  {
   "cell_type": "code",
   "execution_count": 54,
   "metadata": {
    "scrolled": true
   },
   "outputs": [],
   "source": [
    "\n",
    "\n",
    "#Mass of the Muon\n",
    "muMass = 0.105658\n",
    "\n",
    "#Momentum squared for the two muons\n",
    "\n",
    "\n",
    "#Energy of the two muons\n",
    "\n",
    "\n",
    "#Total Energy of the two muons \n",
    "\n",
    "\n",
    "#Momentum squared of the muon pair vector\n",
    "\n",
    "\n",
    "#Invariant mass\n",
    "\n",
    "\n",
    "\n"
   ]
  },
  {
   "cell_type": "code",
   "execution_count": 55,
   "metadata": {},
   "outputs": [
    {
     "name": "stdout",
     "output_type": "stream",
     "text": [
      "The first five values calculated (in units GeV):\n",
      "0    17.492160\n",
      "1    11.553405\n",
      "2     9.163621\n",
      "3    12.477441\n",
      "4    14.315873\n",
      "dtype: float64\n",
      "Invariant mass values are correct!\n"
     ]
    }
   ],
   "source": [
    "\n",
    "print('The first five values calculated (in units GeV):')\n",
    "print(invariant_mass[0:5])\n",
    "\n",
    "# Rest of the code is for checking if the values are correct. You don't have to change that.\n",
    "if 14.31 <= invariant_mass.values[4] <= 14.32:\n",
    "    print('Invariant mass values are correct!')\n",
    "else:\n",
    "    print('Calculated values are not yet correct. Please check the calculation one more time.')\n",
    "    print('Remember: don´t change the name of the variable invariant_mass.')"
   ]
  },
  {
   "cell_type": "markdown",
   "metadata": {},
   "source": [
    "<details>\n",
    "    <summary>Answer</summary>\n",
    "\n",
    "<code>\n",
    "# Mass of the Muon\n",
    "muMass = 0.105658   \n",
    "\n",
    "\\# Momentum squared for the two muons\n",
    "p1_squared = (ds.px1)\\*\\*2 + (ds.py1)\\*\\*2 + (ds.pz1)\\*\\*2\n",
    "p2_squared = (ds.px2)\\*\\*2 + (ds.py2)\\*\\*2 + (ds.pz2)\\*\\*2\n",
    "\n",
    "\\# Energy of the two muons\n",
    "e1 = np.sqrt(p1_squared + (muMass\\*muMass))\n",
    "e2 = np.sqrt(p2_squared + (muMass\\*muMass))\n",
    "\n",
    "\\# Total Energy of the two muons \n",
    "epair =  e1 + e2\n",
    "\n",
    "\\# Momentum squared of the muon pair vector\n",
    "ptpair_squared = (ds.px1 + ds.px2)\\*\\*2 + (ds.py1 + ds.py2)\\*\\*2 + (ds.pz1 + ds.pz2)\\*\\*2\n",
    "\n",
    "invariant_mass = np.sqrt(epair**2 - ptpair_squared)\n",
    "    \n",
    "</code>\n",
    "    \n",
    "</details>"
   ]
  },
  {
   "cell_type": "markdown",
   "metadata": {},
   "source": [
    "#### Creating the histogram"
   ]
  },
  {
   "cell_type": "markdown",
   "metadata": {},
   "source": [
    "\n",
    "Next, write down a code that will create a histogram from the invariant mass values that you calculated. \n",
    "\n",
    "Because this exercise focuses on the Z boson, set the range wisely to get the values near the mass of the Z boson. Use the Z boson mass value that you looked earlier from the Particle Data Group as a reference.\n",
    "\n",
    "Try what is the best amount of bins to make a clear histogram. You can try different values and see how they affect to the histogram.\n",
    "\n",
    "In the code there are already lines for naming the axes and the title of the histogram. \n",
    "\n",
    "If you get stuck use the hints below. But try to create the histogram without using the hints!"
   ]
  },
  {
   "cell_type": "markdown",
   "metadata": {},
   "source": [
    "<details>\n",
    "    <summary>Hint 1</summary>\n",
    "    \n",
    "    The invariant mass values that you have calculated are saved in the variable \"invariant_mass\".\n",
    "</details>\n",
    "\n",
    "<details>\n",
    "    <summary>Hint 2</summary>\n",
    "    \n",
    "    The function is in the form \"plt.hist(x, bins=0, range=(0,0))\", where x will be replaced with the name of the variable that contains the data that is wanted to be used in the histogram (in our case the invariant masses). The zeroes will be replaced with the wanted amount of bins and with the lower and upper limits of the histogram.\n",
    "</details>\n",
    "\n",
    "<details>\n",
    "    <summary>Hint 3</summary>\n",
    "    \n",
    "    Try different bin values between 50 and 200.\n",
    "</details>"
   ]
  },
  {
   "cell_type": "code",
   "execution_count": 20,
   "metadata": {},
   "outputs": [],
   "source": [
    "# Write down the line of code that will create the histogram (use plt.hist as we did earlier).\n",
    "\n",
    "\n"
   ]
  },
  {
   "cell_type": "markdown",
   "metadata": {},
   "source": [
    "<details>\n",
    "    <summary>Answer</summary>\n",
    "\n",
    "\n",
    "plt.hist(invariant_mass, bins=120, range=(60,120))\n",
    "\n",
    "\n",
    "    \n",
    "</details>"
   ]
  },
  {
   "cell_type": "markdown",
   "metadata": {},
   "source": [
    "We can also add some axes labels and a title...."
   ]
  },
  {
   "cell_type": "code",
   "execution_count": 63,
   "metadata": {},
   "outputs": [
    {
     "data": {
      "image/png": "[encoded data removed]",
      "text/plain": [
       "<Figure size 432x288 with 1 Axes>"
      ]
     },
     "metadata": {
      "needs_background": "light"
     },
     "output_type": "display_data"
    }
   ],
   "source": [
    "# Let's name the axes and the title. Don't change these.\n",
    "plt.hist(invariant_mass, bins=120, range=(60,120))\n",
    "\n",
    "plt.xlabel('Invariant mass [GeV]')\n",
    "plt.ylabel('Number of events')\n",
    "plt.title('Histogram of invariant mass values of two muons. \\n')\n",
    "plt.show()"
   ]
  },
  {
   "cell_type": "markdown",
   "metadata": {},
   "source": [
    "\n",
    "#### Question 3 : Describe the histogram. What information can you get from it?\n"
   ]
  },
  {
   "cell_type": "markdown",
   "metadata": {},
   "source": [
    "Answer.....\n"
   ]
  },
  {
   "cell_type": "markdown",
   "metadata": {},
   "source": [
    "You can try changing the range of the histogram to look at different parts of the mass spectrum we saw in the first part of the exercise.\n",
    "\n",
    "For example in the range 2.5-4 you can see the 'J/psi' particle."
   ]
  },
  {
   "cell_type": "markdown",
   "metadata": {},
   "source": [
    "\n",
    "#### Question 4 : What do you notice about the Upsilon particle??"
   ]
  },
  {
   "cell_type": "markdown",
   "metadata": {},
   "source": [
    "Answer: .....\n"
   ]
  },
  {
   "cell_type": "markdown",
   "metadata": {},
   "source": [
    "### Exercise 5 : Looking for Higgs to 4 lepton decays\n",
    "\n",
    "Now that we can reconstruct invariant masses we can look to find the mass of the Higgs via its decay to two Z bosons. As the Z boson is not stable and decays we can identfiy the Z boson by its decay to two leptons as above. Consequently the Higgs boson can end up decaying to 4 leptons. We can look at the final states electron-positron and electron-positron, electron-positron and muon- muon+ as well as muon- muon+ muon- muon+\n",
    "\n",
    "<b> Would some Feyman diagrams help here?? </b>\n",
    "\n",
    "To calculate the invariant mass of the Higgs we need to know the mass of the particles in the final state. There are three different mass configurations here so three different calculations. We could look at the invariant mass distribution of each state and then add them together to get the final distribution  "
   ]
  },
  {
   "cell_type": "markdown",
   "metadata": {},
   "source": [
    "#### $p >> m$"
   ]
  },
  {
   "cell_type": "markdown",
   "metadata": {},
   "source": [
    "Alternatively, because these are high energy collisions the momentum of the muons and electron is much higher than its mass. Therefore the mass contibution to energy is negligible, so we can just set the mass of the electron and muon to zero. Now we can add all the electron-positron and electron-positron, electron-positron and muon- muon+ as well as muon- muon+ muon- muon+ data together as their only physical difference is their mass and we have set this to zero. Have a try! Calculate the invariant mass of all the datasets in one go!"
   ]
  },
  {
   "cell_type": "markdown",
   "metadata": {},
   "source": [
    "#### 4 lepton invariant mass"
   ]
  },
  {
   "cell_type": "code",
   "execution_count": 4,
   "metadata": {},
   "outputs": [],
   "source": [
    "ds_2e2mu_2011 = pd.read_csv('2e2mu_2011.csv')\n",
    "ds_2e2mu_2012 = pd.read_csv('2e2mu_2012.csv')\n",
    "ds_4e_2011 = pd.read_csv('4e_2011.csv')\n",
    "ds_4e_2012 = pd.read_csv('4e_2012.csv')\n",
    "ds_4mu_2011 = pd.read_csv('4mu_2011.csv')\n",
    "ds_4mu_2012 = pd.read_csv('4mu_2012.csv')\n",
    "\n",
    "ds2 = pd.concat([ds_2e2mu_2011, ds_2e2mu_2012, ds_4e_2011, ds_4e_2012, ds_4mu_2011, ds_4mu_2012], axis=0, ignore_index=True)\n",
    "\n",
    "#Particles 1 and 2 are the electron and positron\n",
    "#Particles 3 amd 4 are the muon- and muon + \n",
    "\n",
    "#Mass of the Muon\n",
    "muMass = 0.105658\n",
    "#Mass of the electron\n",
    "eMass = 0.000511\n",
    "\n",
    "#Momentum squared for the 4 leptons\n",
    "p1_squared = (ds2.px1)**2 + (ds2.py1)**2 + (ds2.pz1)**2\n",
    "p2_squared = (ds2.px2)**2 + (ds2.py2)**2 + (ds2.pz2)**2\n",
    "p3_squared = (ds2.px3)**2 + (ds2.py3)**2 + (ds2.pz3)**2\n",
    "p4_squared = (ds2.px4)**2 + (ds2.py4)**2 + (ds2.pz4)**2\n",
    "\n",
    "#Energy of the leptons\n",
    "e1 = np.sqrt(p1_squared)\n",
    "e2 = np.sqrt(p2_squared)\n",
    "e3 = np.sqrt(p3_squared)\n",
    "e4 = np.sqrt(p4_squared)\n",
    "\n",
    "#Total Energy of the four leptons\n",
    "epair =  e1 + e2 + e3 + e4\n",
    "\n",
    "#Momentum squared of the four leptons\n",
    "ptleptons_squared = (ds2.px1 + ds2.px2 + ds2.px3 + ds2.px4)**2 + (ds2.py1 + ds2.py2+ ds2.py3 + ds2.py4)**2 + (ds2.pz1 + ds2.pz2 + ds2.pz3 + ds2.pz4)**2\n",
    "\n",
    "invariant_mass_2e2mu = np.sqrt(epair**2 - ptleptons_squared)\n"
   ]
  },
  {
   "cell_type": "code",
   "execution_count": 19,
   "metadata": {},
   "outputs": [
    {
     "data": {
      "image/png": "[encoded data removed]",
      "text/plain": [
       "<Figure size 432x288 with 1 Axes>"
      ]
     },
     "metadata": {
      "needs_background": "light"
     },
     "output_type": "display_data"
    }
   ],
   "source": [
    "# Write down there a code that will create the histogram.\n",
    "plt.hist(invariant_mass_2e2mu, bins=60, range=(45,180))\n",
    "\n",
    "# Let's name the axes and the title. Don't change these.\n",
    "plt.xlabel('Invariant mass [GeV]')\n",
    "plt.ylabel('Number of events')\n",
    "plt.title('Histogram of invariant mass values of four leptons. \\n')\n",
    "\n",
    "plt.arrow(70, 10, 18, -1.8,length_includes_head=True, width=0.2, fc='r', ec='r')\n",
    "plt.arrow(125, 9, 0, -3.5,length_includes_head=True, width=0.5, fc='r', ec='r')\n",
    "plt.text(118, 10.5, 'Higgs Boson', fontsize=12)\n",
    "plt.text(60, 10.5, 'Z Boson', fontsize=12)\n",
    "\n",
    "plt.show()"
   ]
  },
  {
   "cell_type": "markdown",
   "metadata": {},
   "source": [
    "Combining the 4 lepton data we start to see hints of the Higgs particle decaying to 4 leptons at a mass of around 126 $GeV/c^2$"
   ]
  },
  {
   "cell_type": "markdown",
   "metadata": {},
   "source": [
    "### Compare to the CMS analysis"
   ]
  },
  {
   "cell_type": "markdown",
   "metadata": {},
   "source": [
    "We can compare our distribution to the CMS analysis. Bear in mind the image produce below uses more data and a more sophisticated analysis. For example looking at events with more than 4 leptons where the additional leptons can come from other particles in the event "
   ]
  },
  {
   "cell_type": "markdown",
   "metadata": {},
   "source": [
    "<figure>\n",
    "    <img src=\"images/CMS-HIGGSTOZZ.png\" alt=\"image missing\" style=\"height: 350px\" />\n",
    "    <figcaption>Image 10: Distribution of the reconstructed four-lepton invariant mass in the low-mass range. &copy; <a href=\"https://arxiv.org/abs/1706.09936\">CMS Collaboration</a> [6]</figcaption>\n",
    "</figure>"
   ]
  },
  {
   "cell_type": "markdown",
   "metadata": {},
   "source": [
    "## In the end"
   ]
  },
  {
   "cell_type": "markdown",
   "metadata": {},
   "source": [
    "Now you have completed the exercise. Feel free to go back and test some different values to the code and see what happens. You can also create a new code cell by clicking \"INSERT\" -> \"Insert Cell Below\" and try to write some of your own code too!\n",
    "\n",
    "More information about the CERN Open Data can be found from http://opendata.cern.ch/."
   ]
  },
  {
   "cell_type": "markdown",
   "metadata": {},
   "source": [
    "# Further Work"
   ]
  },
  {
   "cell_type": "markdown",
   "metadata": {},
   "source": [
    "If you have finished all the exercises above and would like to do more, look at the sections below on fitting the Z mass plot and the effect of pseudorapidity"
   ]
  },
  {
   "cell_type": "markdown",
   "metadata": {},
   "source": [
    "## Fitting a function to the Z mass histogram"
   ]
  },
  {
   "cell_type": "markdown",
   "metadata": {},
   "source": [
    "To get information about mass and lifetime of the detected resonance, a function that describes the distribution of the invariant masses must be fitted to the values of the histogram. In our case the values follow a Breit-Wigner distribution:\n",
    "\n",
    "$$\n",
    "N(E) = \\frac{K}{(E-M)^2 + \\frac{\\Gamma^2}{4}},\n",
    "$$\n",
    "\n",
    "where $E$ is the energy, $M$ the maximum of the distribution (equals to the mass of the particle that is detected in the resonance), $\\Gamma$ the full width at half maximum (FWHM) or the decay width of the distribution and $K$ a constant.\n",
    "\n",
    "The Breit-Wigner distribution can also be expressed in the following form:\n",
    "\n",
    "$$\n",
    "\\frac{ \\frac{2\\sqrt{2}M\\Gamma\\sqrt{M^2(M^2+\\Gamma^2)} }{\\pi\\sqrt{M^2+\\sqrt{M^2(M^2+\\Gamma^2)}}} }{(E^2-M^2)^2 + M^2\\Gamma^2},\n",
    "$$\n",
    "\n",
    "where the constant $K$ is written open.\n",
    "\n",
    "The decay width $\\Gamma$ and the lifetime $\\tau$ of the particle detected in the resonance are related in the following way:\n",
    "\n",
    "$$\n",
    "\\Gamma \\equiv \\frac{\\hbar}{\\tau},\n",
    "$$\n",
    "\n",
    "where $\\hbar$ is the reduced Planck's constant.\n",
    "\n",
    "With the code below it is possible to optimize a function that represents Breit-Wigner distribution to the values of the histogram. The function is already written in the code. It is now your task to figure out which the values of the maximum of the distribution $M$ and the full width at half maximum of the distribution $\\Gamma$ could approximately be. The histogram that was created earlier will help in this task.\n",
    "\n",
    "Write these initial guesses in the code in the line `initials = [#THE INITIAL GUESS FOR GAMMA, #THE INITIAL GUESS FOR M, -2, 200, 13000]`. In other words replace the two comments in that line with the values that you derived.\n",
    "\n",
    "Notice that the initial guesses for parameters _a, b_ and _A_ have been already given. Other comments in the code can be left untouched. From them you can get information about what is happening in the code.\n",
    "\n",
    "After running the code Jupyter will print the values of the different parameters as a result of the optimization. Also uncertainties of the values and a graph of the fitted function are printed. The uncertainties will be received from the covariance matrix that the fitting function `curve_fit` will return."
   ]
  },
  {
   "cell_type": "markdown",
   "metadata": {},
   "source": [
    "<details>\n",
    "    <summary>Hint 1</summary>\n",
    "    \n",
    "    Think how M and gamma could be determined with the help of the histogram. Look from the histogram that you created that which would approximately be the values of M and gamma.\n",
    "</details>\n",
    "\n",
    "<details>\n",
    "    <summary>Hint 2</summary>\n",
    "    \n",
    "    If you figured out the initial guesses to be for example gamma = 12 and M = 1300 (note that these values are just random examples!) write them to the code in the form \"initials = [12, 1300, -2, 200, 13000]\".\n",
    "</details>"
   ]
  },
  {
   "cell_type": "code",
   "execution_count": null,
   "metadata": {},
   "outputs": [],
   "source": [
    "# Let's limit the fit near to the peak of the histogram.\n",
    "lowerlimit = 70\n",
    "upperlimit = 110\n",
    "bins = 100\n",
    "\n",
    "# Let's select the invariant mass values that are inside the limitations.\n",
    "limitedmasses = invariant_mass[(invariant_mass > lowerlimit) & (invariant_mass < upperlimit)]\n",
    "\n",
    "#Let's create a histogram of the selected values.\n",
    "histogram = plt.hist(limitedmasses, bins=bins, range=(lowerlimit,upperlimit))\n",
    "\n",
    "# In y-axis the number of the events per each bin (can be got from the variable histogram).\n",
    "# In x-axis the centers of the bins.\n",
    "y = histogram[0]\n",
    "x = 0.5*( histogram[1][0:-1] + histogram[1][1:] )\n",
    "\n",
    "# Let's define a function that describes Breit-Wigner distribution for the fit.\n",
    "# E is the energy, gamma is the decay width, M the maximum of the distribution\n",
    "# and a, b and A different parameters that are used for noticing the effect of\n",
    "# the background events for the fit.\n",
    "def breitwigner(E, gamma, M, a, b, A):\n",
    "    return a*E+b+A*( (2*np.sqrt(2)*M*gamma*np.sqrt(M**2*(M**2+gamma**2)))/(np.pi*np.sqrt(M**2+np.sqrt(M**2*(M**2+gamma**2)))) )/((E**2-M**2)**2+M**2*gamma**2)\n",
    "\n",
    "# Initial values for the optimization in the following order:\n",
    "# gamma (the full width at half maximum (FWHM) of the distribution)\n",
    "# M (the maximum of the distribution)\n",
    "# a (the slope that is used for noticing the effect of the background)\n",
    "# b (the y intercept that is used for noticing the effect of the background)\n",
    "# A (the \"height\" of the Breit-Wigner distribution)\n",
    "#initials = [#THE INITIAL GUESS FOR GAMMA, #THE INITIAL GUESS FOR M, -2, 200, 13000]\n",
    "\n",
    "initials = [10,90,-2,150,13000]\n",
    "\n",
    "# Let's import the module that is used in the optimization, run the optimization\n",
    "# and calculate the uncertainties of the optimized parameters.\n",
    "from scipy.optimize import curve_fit\n",
    "best, covariance = curve_fit(breitwigner, x, y, p0=initials, sigma=np.sqrt(y))\n",
    "error = np.sqrt(np.diag(covariance))\n",
    "    \n",
    "# Let's print the values and uncertainties that are got from the optimization.\n",
    "print(\"The values and the uncertainties from the optimization\")\n",
    "print(\"\")\n",
    "first = \"The value of the decay width (gamma) = {} +- {}\".format(best[0], error[0])\n",
    "second = \"The value of the maximum of the distribution (M) = {} +- {}\".format(best[1], error[1])\n",
    "third = \"a = {} +- {}\".format(best[2], error[2])\n",
    "fourth = \"b = {} +- {}\".format(best[3], error[3])\n",
    "fifth = \"A = {} +- {}\".format(best[4], error[4])\n",
    "print(first)\n",
    "print(second)\n",
    "print(third)\n",
    "print(fourth)\n",
    "print(fifth)\n",
    "\n",
    "plt.plot(x, breitwigner(x, *best), 'r-', label='gamma = {}, M = {}'.format(best[0], best[1]))\n",
    "plt.xlabel('Invariant mass [GeV]')\n",
    "plt.ylabel('Number of event')\n",
    "plt.title('The Breit-Wigner fit')\n",
    "plt.legend()\n",
    "plt.show()"
   ]
  },
  {
   "cell_type": "markdown",
   "metadata": {},
   "source": [
    "#### Notification 1:"
   ]
  },
  {
   "cell_type": "markdown",
   "metadata": {},
   "source": [
    "If the fitted function does not follow the histogram well, go back and check the intial guesses."
   ]
  },
  {
   "cell_type": "markdown",
   "metadata": {},
   "source": [
    "#### Notification 2:"
   ]
  },
  {
   "cell_type": "markdown",
   "metadata": {},
   "source": [
    "In fitting the so called background of the mass distribution is taken into account. The background basically means muon pairs that come from other decay processes than from the decay of the Z boson. The background is taken into account in the code in the line that follows the command `def breitwigner`. The fit is adapted in the background with the term `a*E+b+A`, where $aE + b$ takes care of the linear part of the background and $A$ the height of the background."
   ]
  },
  {
   "cell_type": "markdown",
   "metadata": {},
   "source": [
    "#### Notification 3:"
   ]
  },
  {
   "cell_type": "markdown",
   "metadata": {},
   "source": [
    "Even more correct way for doing the fit and getting the values and the uncertainties from it would be to iterate the fit several times. In the iteration a next step would take initial guesses from the previous fit."
   ]
  },
  {
   "cell_type": "markdown",
   "metadata": {},
   "source": [
    "## Analysing the histogram"
   ]
  },
  {
   "cell_type": "markdown",
   "metadata": {},
   "source": [
    "### Question 4"
   ]
  },
  {
   "cell_type": "markdown",
   "metadata": {},
   "source": [
    "What can you say about the appearance of the Z boson based on the histogram and the fitted function?\n",
    "\n",
    "Can you define the mass of the Z with the uncertainty? How?\n",
    "\n",
    "Explain your answers with the help from the theory part and other sources."
   ]
  },
  {
   "cell_type": "markdown",
   "metadata": {},
   "source": [
    "### Question 5"
   ]
  },
  {
   "cell_type": "markdown",
   "metadata": {},
   "source": [
    "Calculate the lifetime $\\tau$ of the Z boson with the uncertainty by using the fit.\n",
    "\n",
    "Compare the calculated value to the known lifetime of the Z. What do you notice? What could possibly explain your observations?"
   ]
  },
  {
   "cell_type": "markdown",
   "metadata": {},
   "source": [
    "### Question 6"
   ]
  },
  {
   "cell_type": "markdown",
   "metadata": {},
   "source": [
    "When was the Z boson detected first time and what is the physical meaning of the Z?"
   ]
  },
  {
   "cell_type": "markdown",
   "metadata": {},
   "source": [
    "### Question 7"
   ]
  },
  {
   "cell_type": "markdown",
   "metadata": {},
   "source": [
    "If energy and momentum could be measured by infinite accuracy, would there be an one exact peak that differs from the other distribution, or an distribution in the histogram on the location of the mass of the Z? Justify your answer."
   ]
  },
  {
   "cell_type": "markdown",
   "metadata": {},
   "source": [
    "### Question 8"
   ]
  },
  {
   "cell_type": "markdown",
   "metadata": {},
   "source": [
    "## Effect of pseudorapidity to the mass distribution\n"
   ]
  },
  {
   "cell_type": "markdown",
   "metadata": {},
   "source": [
    "In this final section it will be shortly studied how does pseudorapidities of muons that are detected in the CMS detector affect to the mass distribution.\n",
    "\n",
    "As it was told in the theory part, pseudorapidity $\\eta$ describes an angle of which the detected particle has differed from the particle beam (z-axis). Pseudorapidity is determined with the angle $\\theta$ mentioned before with the equation\n",
    "\n",
    "$$\n",
    "\\eta = -\\ln(\\tan(\\frac{\\theta}{2}))\n",
    "$$\n",
    "\n",
    "For recap the image 8 is shown again below. From the image one can see that a small pseudorapidity in practice means that the particle has differed lot from the particle beam. And vice versa: greater pseudorapidity means that the particle has continued almost among the beam line after the collision."
   ]
  },
  {
   "cell_type": "markdown",
   "metadata": {},
   "source": [
    "<figure>\n",
    "    <img src=\"images/CMSangles.png\" alt=\"image missing\" style=\"height: 300px\" />\n",
    "    <figcaption>Image 8: Quantities $\\theta$, $\\eta$ and $\\phi$ in the CMS detector.</figcaption>\n",
    "</figure>"
   ]
  },
  {
   "cell_type": "markdown",
   "metadata": {},
   "source": [
    "The image 11 below shows a situation where two particle beams from left and right collide. The image shows two muons with different pseudorapidities. The muon with the smaller pseudorapidity hits the barrel part of the detector when the muon with the greater pseudorapidity goes to the endcap of the detector. There are also muon chambers in the both ends of the detector so these muons can also be detected."
   ]
  },
  {
   "cell_type": "markdown",
   "metadata": {},
   "source": [
    "<figure>\n",
    "    <img src=\"images/pseudorapidities.png\" alt=\"image missing\" style=\"height: 300px\" />\n",
    "    <figcaption>Image 11: Two particles with different pseudorapidities in the CMS detector.</figcaption>\n",
    "</figure>"
   ]
  },
  {
   "cell_type": "markdown",
   "metadata": {},
   "source": [
    "In this final section it will be studied that how does pseudorapidities of muons that are detected in the CMS detector affect to the mass distribution. For doing that, two different histograms will be made: an one with only muon pairs with small pseudorapidities and an one with great pseduorapidities. The histograms will be made with the familiar method from the earlier part of this exercise."
   ]
  },
  {
   "cell_type": "markdown",
   "metadata": {},
   "source": [
    "### Selecting the events"
   ]
  },
  {
   "cell_type": "markdown",
   "metadata": {},
   "source": [
    "Next let’s create two variables for dividing the events: `small_etas` and `great_etas`. To the first one will be saved only collision events where pseudorapidities of the both detected muons have been small (for example under 0.38). And respectively to the second those whose pseudorapidities have been great (for example over 1.52). Absolute values will be used because $\\eta$ can get also negative values.\n",
    "\n",
    "Complete the code cell below by determining the variables `small_etas` and `great_etas` in a way that the division described above will be made. You will need the following functions:\n",
    "\n",
    "- `ds[condition]` selects from the variable `ds` only events which fulfill the condition written inside the brackets. There can also be more than one condition. Then the function is in the form `ds[(condition1) & (condition2)]`\n",
    "- an example of this could be a function where from the variable `example` only rows where the values of the columns `a` and `b` have been both greater than 8 would be selected: `example[(example.a > 8) & (example.b > 8)]`\n",
    "- you can get the absolute values with the function `np.absolute()` from the _numpy_ module\n",
    "- pseudorapidity of the first muon is `ds.eta1` and the second `ds.eta2`\n",
    "- ”greater than” and ”smaller than” comparisons can be made in Python straight with the symbols > and <\n",
    "- Python uses a dot as a decimal separator (for example 0.38)"
   ]
  },
  {
   "cell_type": "markdown",
   "metadata": {},
   "source": [
    "<details>\n",
    "    <summary>Hint 1</summary>\n",
    "    \n",
    "    Remember to define the small values in a way that both eta1 and eta2 have been smaller than 0.38. And same for the large values.\n",
    "</details>\n",
    "\n",
    "<details>\n",
    "    <summary>Hint 2</summary>\n",
    "    \n",
    "    Remember to tell from which variable you want to get the values of the pseudorapidities (write ds.eta1 or ds.eta2). Remember to use \"np.\" in front of the aboslute value function.\n",
    "</details>\n",
    "\n",
    "<details>\n",
    "    <summary>Hint 3</summary>\n",
    "    \n",
    "    The first variable with the conditions is \"great_etas = ds[(np.absolute(ds.eta1) > 1.52) & (np.absolute(ds.eta2) > 1.52)]\" and the second \"small_etas = ds[(np.absolute(ds.eta1) < 0.38) & (np.absolute(ds.eta2) < 0.38)]\".\n",
    "</details>"
   ]
  },
  {
   "cell_type": "code",
   "execution_count": null,
   "metadata": {},
   "outputs": [],
   "source": [
    "# Let's import the needed modules.\n",
    "import matplotlib.pyplot as plt\n",
    "import pandas as pd\n",
    "import numpy as np\n",
    "\n",
    "# With this line the data is imported and saved to the variable \"ds\".\n",
    "ds = pd.read_csv('DoubleMuRun2011A.csv')\n",
    "\n",
    "great_etas = #OTHER SELECTION HERE\n",
    "small_etas = #OTHER SELECTION HERE\n",
    "\n",
    "# Let's print out some information about the selection\n",
    "print('Amount of all events = %d' % len(ds))\n",
    "print('Amount of the events where the pseudorapidity of the both muons have been large = %d' %len(great_etas))\n",
    "print('Amount of the events where the pseudorapidity of the both muons have been small = %d' %len(small_etas))"
   ]
  },
  {
   "cell_type": "markdown",
   "metadata": {},
   "source": [
    "### Creating the histograms\n"
   ]
  },
  {
   "cell_type": "markdown",
   "metadata": {},
   "source": [
    "Run the code cell below to create separate histograms from the events with small and with great values of pseudorapidities. The cell will get the invariant masses for both of the selections and will create the histograms out of them near to the peak that refers to the Z boson."
   ]
  },
  {
   "cell_type": "code",
   "execution_count": null,
   "metadata": {},
   "outputs": [],
   "source": [
    "# Let's differ the invariant masses of the large and small pseudorapidity\n",
    "# events for making the histograms.\n",
    "inv_mass_great = great_etas['M']\n",
    "inv_mass_small = small_etas['M']\n",
    "\n",
    "# Let's use the matplotlib.pyplot module to create a custom size\n",
    "# figure where the two histograms will be plotted.\n",
    "f = plt.figure(1)\n",
    "f.set_figheight(15)\n",
    "f.set_figwidth(15)\n",
    "plt.subplot(211)\n",
    "plt.hist(inv_mass_great, bins=120, range=(60,120))\n",
    "plt.ylabel('great etas, number of events', fontsize=20)\n",
    "plt.subplot(212)\n",
    "plt.hist(inv_mass_small, bins=120, range=(60,120))\n",
    "plt.ylabel('small etas, number of events', fontsize=20)\n",
    "plt.xlabel('invariant mass [GeV]', fontsize=20)\n",
    "plt.show()"
   ]
  },
  {
   "cell_type": "markdown",
   "metadata": {},
   "source": [
    "### Question 9"
   ]
  },
  {
   "cell_type": "markdown",
   "metadata": {},
   "source": [
    "Compare the two histograms that were created above. In which way the pseudorapidities of the muons affect to the mass distribution?\n",
    "\n",
    "What could possibly explain your observations?\n",
    "\n",
    "First think the explanation by yourself and after that open the explanation below to see how you managed out."
   ]
  },
  {
   "cell_type": "markdown",
   "metadata": {},
   "source": [
    "<details>\n",
    "    <summary>Click here to open the explanation</summary>\n",
    "    \n",
    "    From the histograms one can see that the events where the pseudorapidity of both of the muons have been small, will produce more narrow peak than the events with the muons with great pseudorapidities. That means that the resolution of the invariant masses have been worse with the great pseudorapidities.\n",
    "    \n",
    "    The worse resolution follows from the fact that the resolution of the transverse momentum (p_t, the component of momentum that is perpendicular to the particle beams) has been worse for the muons with great pseudorapidities. This can be seen for example from the image 21 on page 32 of the paper https://arxiv.org/pdf/1206.4071.pdf of the CMS Collaboration.\n",
    "    \n",
    "    The explanation for the effect of the pseudorapidity to the resolution is that the particles which head to the endcap of the detector (great pseudorapidities) will more probably interact with the material of the detector than the muons with smaller pseudorapidities (check the image 11). In these interactions muons will lose some of their energy. This messes up slightly the fitting of the trajectories of the muons and the measurement of the transverse momentum. It also effects to the situation that the measurement of the transverse momentum is easily depended for example from the orientation of the muon chambers, from the division of the material of the detector and from the magnetic field. It can be assumed that these things are worse known for the particles that have great pseudorapidities.\n",
    "</details>"
   ]
  },
  {
   "cell_type": "markdown",
   "metadata": {},
   "source": [
    "### Sources"
   ]
  },
  {
   "cell_type": "markdown",
   "metadata": {},
   "source": [
    "[1] P. Mouche, *Overall view of the LHC. Vue d'ensemble du LHC*, 2014.\n",
    "Url: [https://cds.cern.ch/record/1708847](https://cds.cern.ch/record/1708847).\n",
    "\n",
    "[2] M. Brice, *View of an open LHC interconnection. Vue d'une interconnection ouverte*, 2005.\n",
    "Url: [https://cds.cern.ch/record/905940](https://cds.cern.ch/record/905940)\n",
    "\n",
    "[3] CMS Collaboration, *Detector Drawings*, 2012.\n",
    "Url: [https://cds.cern.ch/record/1433717](https://cds.cern.ch/record/1433717).\n",
    "\n",
    "[4] M. Lapka, D. Barney, E. Quigg et al., *Interactive slice of CMS detector*, 2010.\n",
    "Url: [https://cms-docdb.cern.ch/cgi-bin/PublicDocDB/ShowDocument?docid=4172](https://cms-docdb.cern.ch/cgi-bin/PublicDocDB/ShowDocument?docid=4172).\n",
    "\n",
    "[5] CMS Collaboration, *Performance of CMS muon reconstruction in pp collision events at $\\sqrt{s} =$ 7 TeV*, 2012.\n",
    "Url: [arXiv:1206.4071](https://arxiv.org/abs/1206.4071).\n",
    "\n",
    "[6] CMS Collaboration, *Measurements of properties of the Higgs boson decaying into the four-lepton final state in pp collisions at $\\sqrt{s} =$ 13 TeV*, 2017. Url: [arXiv:1706.09936](https://arxiv.org/abs/1706.09936)."
   ]
  }
 ],
 "metadata": {
  "kernelspec": {
   "display_name": "Python 3",
   "language": "python",
   "name": "python3"
  },
  "language_info": {
   "codemirror_mode": {
    "name": "ipython",
    "version": 3
   },
   "file_extension": ".py",
   "mimetype": "text/x-python",
   "name": "python",
   "nbconvert_exporter": "python",
   "pygments_lexer": "ipython3",
   "version": "3.7.6"
  }
 },
 "nbformat": 4,
 "nbformat_minor": 2
}
